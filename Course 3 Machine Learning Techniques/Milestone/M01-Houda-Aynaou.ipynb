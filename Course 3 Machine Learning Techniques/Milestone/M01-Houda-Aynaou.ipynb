{
 "cells": [
  {
   "cell_type": "markdown",
   "metadata": {},
   "source": [
    "# Milestone 1 Assignment\n",
    "\n",
    "## Houda Aynaou"
   ]
  },
  {
   "cell_type": "markdown",
   "metadata": {},
   "source": [
    "The capstone project focuses on diaper manufacturing quality. In the [article](http://www.madehow.com/Volume-3/Disposable-Diaper.html), you discovered how the diaper manufacturing process works. Generally, to ensure or predict quality, a diaper manufacturer needs to monitor every step of the manufacturing process with sensors such as heat sensors, glue sensors, glue level, etc.\n",
    "\n",
    "For this capstone project, we will use the [SECOM manufacturing Data Set](https://archive.ics.uci.edu/ml/datasets/SECOM) from the UCI Machine Learning Repository. The set is originally for semiconductor manufacturing, but in our case, we will assume that it is for the diaper manufacturing process.\n",
    "\n",
    "\n",
    "## To Do\n",
    "1. Refine your data understanding and prepare a DFD of solving the manufacturing quality problem\n",
    "2. Read and merge data\n",
    "3. Clean and prepare data \n",
    "4. Visually explore data\n",
    "5. Handle class imbalance problem\n",
    "6. Apply feature selection techniques to reduce dimensionality of data\n",
    "7. What are your initial findings? Describe them in a summary section"
   ]
  },
  {
   "cell_type": "code",
   "execution_count": null,
   "metadata": {},
   "outputs": [],
   "source": [
    "import numpy as np \n",
    "import pandas as pd \n",
    "im"
   ]
  }
 ],
 "metadata": {
  "kernelspec": {
   "display_name": "Python 3",
   "language": "python",
   "name": "python3"
  },
  "language_info": {
   "codemirror_mode": {
    "name": "ipython",
    "version": 3
   },
   "file_extension": ".py",
   "mimetype": "text/x-python",
   "name": "python",
   "nbconvert_exporter": "python",
   "pygments_lexer": "ipython3",
   "version": "3.6.10"
  }
 },
 "nbformat": 4,
 "nbformat_minor": 4
}
