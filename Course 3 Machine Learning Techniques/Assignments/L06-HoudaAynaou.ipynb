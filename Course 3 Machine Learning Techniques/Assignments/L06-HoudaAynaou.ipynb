{
 "cells": [
  {
   "cell_type": "markdown",
   "metadata": {},
   "source": [
    "# Lesson 05 Assignement\n",
    "# Houda Aynaou"
   ]
  },
  {
   "cell_type": "markdown",
   "metadata": {},
   "source": [
    "## Best Practices for Assignments & Milestones\n",
    "\n",
    "## Workplace Scenario\n",
    "\n",
    "Cypress from New Ventures Department has found a banking client who wants to do a targeted marketing campaign for a specialty investment product to some of its customers. Cypress stresses that the bank only wants to spend the effort on customers who are likely to say yes; last year they used a different company to generate an algorithm and ended up spamming many of their customers with products they didn't want.\n",
    "\n",
    "Now that you know a few ensemble models to improve a classification model let's try it out in this assignment.\n",
    "\n",
    "## To do: \n",
    "1. Read in, parse, and pre-process the data\n",
    "2. Perform a brief exploratory analysis\n",
    "3. Compare the performance between a decision tree and a random forest approach by assessing the accuracy of each model\n",
    "4. Graph the structure of your decision tree\n",
    "5. Graph the confusion matrix of your random forest model"
   ]
  },
  {
   "cell_type": "code",
   "execution_count": null,
   "metadata": {},
   "outputs": [],
   "source": []
  }
 ],
 "metadata": {
  "kernelspec": {
   "display_name": "Python 3",
   "language": "python",
   "name": "python3"
  },
  "language_info": {
   "codemirror_mode": {
    "name": "ipython",
    "version": 3
   },
   "file_extension": ".py",
   "mimetype": "text/x-python",
   "name": "python",
   "nbconvert_exporter": "python",
   "pygments_lexer": "ipython3",
   "version": "3.6.10"
  }
 },
 "nbformat": 4,
 "nbformat_minor": 2
}
