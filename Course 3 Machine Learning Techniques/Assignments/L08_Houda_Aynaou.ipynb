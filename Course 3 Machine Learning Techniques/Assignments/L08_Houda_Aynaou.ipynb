{
  "nbformat": 4,
  "nbformat_minor": 0,
  "metadata": {
    "kernelspec": {
      "display_name": "Python 3",
      "language": "python",
      "name": "python3"
    },
    "language_info": {
      "codemirror_mode": {
        "name": "ipython",
        "version": 3
      },
      "file_extension": ".py",
      "mimetype": "text/x-python",
      "name": "python",
      "nbconvert_exporter": "python",
      "pygments_lexer": "ipython3",
      "version": "3.6.10"
    },
    "colab": {
      "name": "L08-Houda-Aynaou.ipynb",
      "provenance": []
    },
    "accelerator": "TPU"
  },
  "cells": [
    {
      "cell_type": "markdown",
      "metadata": {
        "id": "YfJe_0MGbIZs",
        "colab_type": "text"
      },
      "source": [
        "# Lesson 08\n",
        "# Houda Aynaou"
      ]
    },
    {
      "cell_type": "markdown",
      "metadata": {
        "id": "URMY23xHbIZt",
        "colab_type": "text"
      },
      "source": [
        "## Workplace Scenario\n",
        "Mackenzie has a wine bottling factory and recently attended a followup symposium on deep learning and has returned with fascinating ideas to build neural networks to perform classification tasks. She had the idea of building a red-white wine classifier so that the bottle labels can be automatically generated. She approached your team, and suggested that you build a red-white wine classifier as a modified simple perceptron.\n",
        "\n",
        "\n",
        "## To Do:\n",
        "\n",
        "For this assignment you will start from the perceptron neural network notebook and modify the python code to make it into a multi-layer neural network classifier. To test your system, use the [RedWhiteWine.csv](https://raw.githubusercontent.com/houdaaynaou/DS-Certificate-UW/master/Course%203%20Machine%20Learning%20Techniques/Data/RedWhiteWine.csv) to an external site. with the goal of building a red or white wine classifier. Use all the features in the dataset, allowing the network to decide how to build the internal weighting system.\n",
        "\n",
        "Perform each of the following tasks and answer the related questions:\n",
        "\n",
        "1. Use the provided RedWhiteWine.csv file. Include ALL the features with “Class” being your output vector\n",
        "2. Use the provided Simple Perceptron Neural Network notebook to develop a multi-layer feed-forward/backpropagation neural network\n",
        "3. Be able to adjust the following between experiments:\n",
        "  - Learning Rate\n",
        "  - Number of epochs\n",
        "  - Depth of architecture—number of hidden layers between the input and output layers\n",
        "  Number of nodes in a hidden layer—width of the hidden layers\n",
        "  (optional) Momentum\n",
        "4. Determine what the best neural network structure and hyperparameter settings results in the best predictive capability"
      ]
    },
    {
      "cell_type": "code",
      "metadata": {
        "id": "4KEK4vykbIZu",
        "colab_type": "code",
        "outputId": "8b17e7b2-8225-413f-8759-6d0feb0d6bef",
        "colab": {
          "base_uri": "https://localhost:8080/",
          "height": 71
        }
      },
      "source": [
        "import numpy as np\n",
        "import pandas as pd \n",
        "import matplotlib.pyplot as plt\n",
        "import seaborn as sns\n",
        "\n",
        "import warnings\n",
        "warnings.filterwarnings('ignore')"
      ],
      "execution_count": 0,
      "outputs": [
        {
          "output_type": "stream",
          "text": [
            "/usr/local/lib/python3.6/dist-packages/statsmodels/tools/_testing.py:19: FutureWarning: pandas.util.testing is deprecated. Use the functions in the public API at pandas.testing instead.\n",
            "  import pandas.util.testing as tm\n"
          ],
          "name": "stderr"
        }
      ]
    },
    {
      "cell_type": "markdown",
      "metadata": {
        "id": "C5susITUbIZx",
        "colab_type": "text"
      },
      "source": [
        "## 1. Data "
      ]
    },
    {
      "cell_type": "code",
      "metadata": {
        "scrolled": true,
        "id": "5OVYhmmibIZy",
        "colab_type": "code",
        "outputId": "771d5541-3705-4802-f73f-172ad28c07a0",
        "colab": {
          "base_uri": "https://localhost:8080/",
          "height": 204
        }
      },
      "source": [
        "LINK = 'https://raw.githubusercontent.com/houdaaynaou/DS-Certificate-UW/master/Course%203%20Machine%20Learning%20Techniques/Data/RedWhiteWine.csv'\n",
        "data = pd.read_csv(LINK)\n",
        "data.head()"
      ],
      "execution_count": 0,
      "outputs": [
        {
          "output_type": "execute_result",
          "data": {
            "text/html": [
              "<div>\n",
              "<style scoped>\n",
              "    .dataframe tbody tr th:only-of-type {\n",
              "        vertical-align: middle;\n",
              "    }\n",
              "\n",
              "    .dataframe tbody tr th {\n",
              "        vertical-align: top;\n",
              "    }\n",
              "\n",
              "    .dataframe thead th {\n",
              "        text-align: right;\n",
              "    }\n",
              "</style>\n",
              "<table border=\"1\" class=\"dataframe\">\n",
              "  <thead>\n",
              "    <tr style=\"text-align: right;\">\n",
              "      <th></th>\n",
              "      <th>fixed acidity</th>\n",
              "      <th>volatile acidity</th>\n",
              "      <th>citric acid</th>\n",
              "      <th>residual sugar</th>\n",
              "      <th>chlorides</th>\n",
              "      <th>free sulfur dioxide</th>\n",
              "      <th>total sulfur dioxide</th>\n",
              "      <th>density</th>\n",
              "      <th>pH</th>\n",
              "      <th>sulphates</th>\n",
              "      <th>alcohol</th>\n",
              "      <th>quality</th>\n",
              "      <th>Class</th>\n",
              "    </tr>\n",
              "  </thead>\n",
              "  <tbody>\n",
              "    <tr>\n",
              "      <th>0</th>\n",
              "      <td>7.4</td>\n",
              "      <td>0.70</td>\n",
              "      <td>0.00</td>\n",
              "      <td>1.9</td>\n",
              "      <td>0.076</td>\n",
              "      <td>11.0</td>\n",
              "      <td>34.0</td>\n",
              "      <td>0.9978</td>\n",
              "      <td>3.51</td>\n",
              "      <td>0.56</td>\n",
              "      <td>9.4</td>\n",
              "      <td>5</td>\n",
              "      <td>1</td>\n",
              "    </tr>\n",
              "    <tr>\n",
              "      <th>1</th>\n",
              "      <td>7.8</td>\n",
              "      <td>0.88</td>\n",
              "      <td>0.00</td>\n",
              "      <td>2.6</td>\n",
              "      <td>0.098</td>\n",
              "      <td>25.0</td>\n",
              "      <td>67.0</td>\n",
              "      <td>0.9968</td>\n",
              "      <td>3.20</td>\n",
              "      <td>0.68</td>\n",
              "      <td>9.8</td>\n",
              "      <td>5</td>\n",
              "      <td>1</td>\n",
              "    </tr>\n",
              "    <tr>\n",
              "      <th>2</th>\n",
              "      <td>7.8</td>\n",
              "      <td>0.76</td>\n",
              "      <td>0.04</td>\n",
              "      <td>2.3</td>\n",
              "      <td>0.092</td>\n",
              "      <td>15.0</td>\n",
              "      <td>54.0</td>\n",
              "      <td>0.9970</td>\n",
              "      <td>3.26</td>\n",
              "      <td>0.65</td>\n",
              "      <td>9.8</td>\n",
              "      <td>5</td>\n",
              "      <td>1</td>\n",
              "    </tr>\n",
              "    <tr>\n",
              "      <th>3</th>\n",
              "      <td>11.2</td>\n",
              "      <td>0.28</td>\n",
              "      <td>0.56</td>\n",
              "      <td>1.9</td>\n",
              "      <td>0.075</td>\n",
              "      <td>17.0</td>\n",
              "      <td>60.0</td>\n",
              "      <td>0.9980</td>\n",
              "      <td>3.16</td>\n",
              "      <td>0.58</td>\n",
              "      <td>9.8</td>\n",
              "      <td>6</td>\n",
              "      <td>1</td>\n",
              "    </tr>\n",
              "    <tr>\n",
              "      <th>4</th>\n",
              "      <td>7.4</td>\n",
              "      <td>0.70</td>\n",
              "      <td>0.00</td>\n",
              "      <td>1.9</td>\n",
              "      <td>0.076</td>\n",
              "      <td>11.0</td>\n",
              "      <td>34.0</td>\n",
              "      <td>0.9978</td>\n",
              "      <td>3.51</td>\n",
              "      <td>0.56</td>\n",
              "      <td>9.4</td>\n",
              "      <td>5</td>\n",
              "      <td>1</td>\n",
              "    </tr>\n",
              "  </tbody>\n",
              "</table>\n",
              "</div>"
            ],
            "text/plain": [
              "   fixed acidity  volatile acidity  citric acid  ...  alcohol  quality  Class\n",
              "0            7.4              0.70         0.00  ...      9.4        5      1\n",
              "1            7.8              0.88         0.00  ...      9.8        5      1\n",
              "2            7.8              0.76         0.04  ...      9.8        5      1\n",
              "3           11.2              0.28         0.56  ...      9.8        6      1\n",
              "4            7.4              0.70         0.00  ...      9.4        5      1\n",
              "\n",
              "[5 rows x 13 columns]"
            ]
          },
          "metadata": {
            "tags": []
          },
          "execution_count": 2
        }
      ]
    },
    {
      "cell_type": "code",
      "metadata": {
        "id": "PZhLCp4zStLo",
        "colab_type": "code",
        "colab": {}
      },
      "source": [
        "# features\n",
        "features = data.drop('Class', axis = 1)\n",
        "\n",
        "# output\n",
        "Y = data.Class.values.T\n",
        "\n",
        "# Standarizinf the features:\n",
        "from sklearn.preprocessing import StandardScaler\n",
        "\n",
        "scaler = StandardScaler()\n",
        "transformed_features = scaler.fit_transform(features)\n",
        "X = transformed_features.T\n"
      ],
      "execution_count": 0,
      "outputs": []
    },
    {
      "cell_type": "markdown",
      "metadata": {
        "id": "5qp_WY67NBex",
        "colab_type": "text"
      },
      "source": [
        "## 2. Logistic (Sigmoid) Function\n"
      ]
    },
    {
      "cell_type": "code",
      "metadata": {
        "id": "UEiRCc4oNEl2",
        "colab_type": "code",
        "colab": {}
      },
      "source": [
        "# Creating a numerically stable logistic s-shaped definition to call\n",
        "def sigmoid(x):\n",
        "    x = np.clip(x, -500, 500)\n",
        "    if x.any()>=0:\n",
        "        return 1/(1 + np.exp(-x))\n",
        "    else:\n",
        "        return np.exp(x)/(1 + np.exp(x))"
      ],
      "execution_count": 0,
      "outputs": []
    },
    {
      "cell_type": "markdown",
      "metadata": {
        "id": "6cxLDwFPN8ic",
        "colab_type": "text"
      },
      "source": [
        "## 3. Initialize Parameters: layer dimention"
      ]
    },
    {
      "cell_type": "code",
      "metadata": {
        "id": "o35l8psEN-Uo",
        "colab_type": "code",
        "colab": {}
      },
      "source": [
        "# define the dimentions and set the weights to random numbers\n",
        "def init_parameters(dim1, dim2, std=1e-1, random = True):\n",
        "    if(random):\n",
        "        return(np.random.random([dim1,dim2])*std)\n",
        "    else:\n",
        "        return(np.zeros([dim1,dim2]))\n"
      ],
      "execution_count": 0,
      "outputs": []
    },
    {
      "cell_type": "markdown",
      "metadata": {
        "id": "_YKP8Q3OOKFy",
        "colab_type": "text"
      },
      "source": [
        "## 4. Forward Propagation with 2 hidden layers"
      ]
    },
    {
      "cell_type": "code",
      "metadata": {
        "id": "h3cmv9yFOJx6",
        "colab_type": "code",
        "colab": {}
      },
      "source": [
        "# 2 layers network: Forward Prop\n",
        "\n",
        "# Passed in the weight vectors, bias vector, the input vector and the Y\n",
        "def fwd_prop(W1, W2, bias1, bias2, X, Y):\n",
        "\n",
        "    # first layer\n",
        "    Z1 = np.dot(W1,X) + bias1 # dot product of the weights and X + bias\n",
        "    A1 = sigmoid(Z1)  # Uses sigmoid to create a predicted vector\n",
        "\n",
        "    # second layer \n",
        "    Z2 = np.dot(W2,A1) + bias2 # dot product of the weights and X + bias\n",
        "    A2 = sigmoid(Z2)  # Uses sigmoid to create a predicted vector\n",
        "\n",
        "    # return first and second layer forward propagation results\n",
        "    return(A1, A2)"
      ],
      "execution_count": 0,
      "outputs": []
    },
    {
      "cell_type": "markdown",
      "metadata": {
        "id": "L9sJZFsIOVj-",
        "colab_type": "text"
      },
      "source": [
        "## 5. Backpropagation with 2 hidden layers"
      ]
    },
    {
      "cell_type": "code",
      "metadata": {
        "id": "iOv9MbkgOHZw",
        "colab_type": "code",
        "colab": {}
      },
      "source": [
        "# Two layers network: Backprop\n",
        "\n",
        "def back_prop(A1, A2, W1, W2, bias1, bias2, X, Y):\n",
        "\n",
        "    m = np.shape(X)[1] # used the calculate the cost by the number of inputs -1/m\n",
        "   \n",
        "    # Cross entropy loss function of the model using A2 (the activation from the last layer)\n",
        "    cost = (-1/m)*np.sum(Y*np.log(A2) + (1-Y)*np.log(1-A2)) # cost of error \n",
        "    \n",
        "    # Optimazing first layer\n",
        "    dZ1 = A1 - Y                                            # subtract actual from pred weights\n",
        "    dW1 = (1/m) * np.dot(dZ1, X.T)                          # calc new weight vector\n",
        "    dBias1 = (1/m) * np.sum(dZ1, axis = 1, keepdims = True)  # calc new bias vector\n",
        "\n",
        "    # Optimizing second layer\n",
        "    dZ2 = A2 - Y                                            # subtract actual from pred weights\n",
        "    dW2 = (1/m) * np.dot(dZ2, A1.T)                          # calc new weight vector\n",
        "    dBias2 = (1/m) * np.sum(dZ2, axis = 1, keepdims = True)  # calc new bias vector\n",
        "    \n",
        "    # Optimized weights and biases\n",
        "    grads ={\"dW1\": dW1, \"dB1\":dBias1, \"dW2\": dW2, \"dB2\":dBias2} # Weight and biases vectors after backprop\n",
        "    \n",
        "    return(grads,cost)"
      ],
      "execution_count": 0,
      "outputs": []
    },
    {
      "cell_type": "markdown",
      "metadata": {
        "id": "la1DZP2lOnr_",
        "colab_type": "text"
      },
      "source": [
        "## 6. Gradient Descent"
      ]
    },
    {
      "cell_type": "code",
      "metadata": {
        "id": "DlmOQF8rOkds",
        "colab_type": "code",
        "colab": {}
      },
      "source": [
        "def run_grad_desc(num_epochs, learning_rate, X, Y, n_1):\n",
        "    \n",
        "    n_0, m = np.shape(X)\n",
        "    \n",
        "    # Weights and Bias for layer 1 \n",
        "    # Layer with n_0 neurons\n",
        "    W1 = init_parameters(n_1, n_0, True)\n",
        "    B1 = init_parameters(n_1,1, True)\n",
        "    \n",
        "    # Weights and Bias for layer 2 \n",
        "    # Layer with 1 neuron\n",
        "    W2 = init_parameters(1, 1, True)\n",
        "    B2 = init_parameters(n_1,1, True)\n",
        "\n",
        "    loss_array = np.ones([num_epochs])*np.nan # resets the loss_array to NaNs\n",
        "    \n",
        "    for i in np.arange(num_epochs):\n",
        "        A1, A2 = fwd_prop(W1, W2, B1, B2, X, Y)         # get predicted vector\n",
        "        grads,cost = back_prop(A1, A2, W1, W2, B1, B2, X, Y)    # get gradient and the cost from BP \n",
        "        \n",
        "        # Updated Weights and biases for the first layer\n",
        "        W1 = W1 - learning_rate*grads[\"dW1\"]    # update weight vector LR*gradient*[BP weights]\n",
        "        B1 = B1 - learning_rate*grads[\"dB1\"]    # update bias LR*gradient[BP bias]\n",
        "\n",
        "        # Updated Weights and biases for the second layer\n",
        "        W2 = W2 - learning_rate*grads[\"dW2\"]    # update weight vector LR*gradient*[BP weights]\n",
        "        B2 = B2 - learning_rate*grads[\"dB2\"]    # update bias LR*gradient[BP bias]\n",
        "        \n",
        "        loss_array[i] = cost                    # loss array gets cross ent values\n",
        "        \n",
        "        parameter = {\"W1\":W1,\"B1\":B1,\"W2\":W2,\"B2\":B2}           # assign \n",
        "    \n",
        "    return(parameter,loss_array)"
      ],
      "execution_count": 0,
      "outputs": []
    },
    {
      "cell_type": "markdown",
      "metadata": {
        "id": "B4VSKV94UPgS",
        "colab_type": "text"
      },
      "source": [
        "## 7. Runing the neural network\n",
        "\n"
      ]
    },
    {
      "cell_type": "code",
      "metadata": {
        "id": "kGhhc30MOraM",
        "colab_type": "code",
        "outputId": "985b1133-bfd5-486e-ce2b-fa27dcd56468",
        "colab": {
          "base_uri": "https://localhost:8080/",
          "height": 34
        }
      },
      "source": [
        "# setting parameters\n",
        "\n",
        "num_epochs = 1000\n",
        "learning_rate = 0.01\n",
        "params, loss_array = run_grad_desc(num_epochs, learning_rate, X, Y, n_1= 1)\n",
        "print(loss_array[num_epochs-1])"
      ],
      "execution_count": 0,
      "outputs": [
        {
          "output_type": "stream",
          "text": [
            "0.477490146581744\n"
          ],
          "name": "stdout"
        }
      ]
    },
    {
      "cell_type": "markdown",
      "metadata": {
        "id": "AszeyTRlUfjw",
        "colab_type": "text"
      },
      "source": [
        "## 8. Plot of the loss array"
      ]
    },
    {
      "cell_type": "code",
      "metadata": {
        "id": "vOrPMhQYUXyL",
        "colab_type": "code",
        "colab": {}
      },
      "source": [
        "import matplotlib.pyplot as plt\n",
        "plt.rcParams['figure.figsize'] = (8.0, 6.0) #Set default plot sizes\n",
        "plt.rcParams['image.interpolation'] = 'nearest' #Use nearest neighbor for rendering"
      ],
      "execution_count": 0,
      "outputs": []
    },
    {
      "cell_type": "code",
      "metadata": {
        "id": "FL6kMw2NUqjb",
        "colab_type": "code",
        "outputId": "30926b6d-e101-4ba1-8ded-a47580f370a3",
        "colab": {
          "base_uri": "https://localhost:8080/",
          "height": 374
        }
      },
      "source": [
        "plt.plot(loss_array);"
      ],
      "execution_count": 0,
      "outputs": [
        {
          "output_type": "display_data",
          "data": {
            "image/png": "[encoded data removed]",
            "text/plain": [
              "<Figure size 576x432 with 1 Axes>"
            ]
          },
          "metadata": {
            "tags": [],
            "needs_background": "light"
          }
        }
      ]
    },
    {
      "cell_type": "code",
      "metadata": {
        "id": "GrE34vxx0fPe",
        "colab_type": "code",
        "outputId": "df893e0c-2e1a-424b-9de1-6a1aa91b5867",
        "colab": {
          "base_uri": "https://localhost:8080/",
          "height": 34
        }
      },
      "source": [
        "# Hyperparameter tuning\n",
        "\n",
        "num_epochs = 5000\n",
        "learning_rate = 0.1\n",
        "params, loss_array2 = run_grad_desc(num_epochs, learning_rate, X, Y, n_1= 1)\n",
        "print(loss_array2[num_epochs-1])"
      ],
      "execution_count": 0,
      "outputs": [
        {
          "output_type": "stream",
          "text": [
            "0.03493564231646338\n"
          ],
          "name": "stdout"
        }
      ]
    },
    {
      "cell_type": "code",
      "metadata": {
        "id": "RwjoyaZS0ySU",
        "colab_type": "code",
        "outputId": "4238349f-11b8-47a6-fb0d-b0f5f93df86e",
        "colab": {
          "base_uri": "https://localhost:8080/",
          "height": 374
        }
      },
      "source": [
        "plt.plot(loss_array2);"
      ],
      "execution_count": 0,
      "outputs": [
        {
          "output_type": "display_data",
          "data": {
            "image/png": "[encoded data removed]",
            "text/plain": [
              "<Figure size 576x432 with 1 Axes>"
            ]
          },
          "metadata": {
            "tags": [],
            "needs_background": "light"
          }
        }
      ]
    },
    {
      "cell_type": "markdown",
      "metadata": {
        "id": "DL4Ug3b30T3p",
        "colab_type": "text"
      },
      "source": [
        "## The best neural network structure and hyperparameter settings results in the best predictive capability\n",
        "\n",
        "The second neural network with the following hyperparameters num_epochs = 5000\n",
        "and learning_rate = 0.1 seems to outperform the first model."
      ]
    },
    {
      "cell_type": "code",
      "metadata": {
        "id": "ZTeYFL7T0Z58",
        "colab_type": "code",
        "colab": {}
      },
      "source": [
        ""
      ],
      "execution_count": 0,
      "outputs": []
    }
  ]
}