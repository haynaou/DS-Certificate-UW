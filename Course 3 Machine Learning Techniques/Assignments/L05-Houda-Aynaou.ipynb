{
 "cells": [
  {
   "cell_type": "markdown",
   "metadata": {},
   "source": [
    "# Lesson 05 Assignement\n",
    "# Houda Aynaou"
   ]
  },
  {
   "cell_type": "markdown",
   "metadata": {},
   "source": [
    "## Workplace Scenario\n",
    "\n",
    "Rooney's client is a tech-manufacturing startup working on a number of automated detection devices for the medical and construction industries. Among the auto-detection devices is a reader that looks at possible carcinoma tissue samples to classify the sample as either benign or malignant. Rooney asks you for help in developing a better algorithm than the current classifier, perhaps a decision tree can help.\n",
    "\n",
    "For this assignment, you will be designing an experiment using decision tree classifiers for the detection of breast cancer and comparing the accuracy using [Breast Cancer Wisconsin Data Set](https://archive.ics.uci.edu/ml/datasets/breast+cancer+wisconsin+(original)).\n",
    "\n",
    "## To do\n",
    "\n",
    "1. Test both entropy and the gini coefficient. Which performs better and why?\n",
    "2. What are the best hyperparameter settings for both?\n",
    "3. Visualize both models and see which feature is selected for each criterion. Are they same for both? Why or why not?\n",
    "4. Determine the AUC for the best model you can achieve. What are the precision and recal values and which might be the one you want to maximize?\n",
    "5. What are the implications of using this type of machine learning algorithm for breast cancer analysis?"
   ]
  },
  {
   "cell_type": "code",
   "execution_count": null,
   "metadata": {},
   "outputs": [],
   "source": []
  }
 ],
 "metadata": {
  "kernelspec": {
   "display_name": "Python 3",
   "language": "python",
   "name": "python3"
  },
  "language_info": {
   "codemirror_mode": {
    "name": "ipython",
    "version": 3
   },
   "file_extension": ".py",
   "mimetype": "text/x-python",
   "name": "python",
   "nbconvert_exporter": "python",
   "pygments_lexer": "ipython3",
   "version": "3.6.10"
  }
 },
 "nbformat": 4,
 "nbformat_minor": 2
}
